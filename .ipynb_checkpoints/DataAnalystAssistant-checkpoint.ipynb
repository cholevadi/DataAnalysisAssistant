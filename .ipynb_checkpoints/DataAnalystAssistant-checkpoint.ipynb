{
 "cells": [
  {
   "cell_type": "code",
   "execution_count": null,
   "id": "306a7731-1fe1-4583-ad24-f69d4b6e7ad6",
   "metadata": {},
   "outputs": [],
   "source": [
    "### pyspark data frame : load data, explore and pre-proecess it. "
   ]
  },
  {
   "cell_type": "code",
   "execution_count": 1,
   "id": "b4bd4dcf-0c15-4d19-affc-d14ca1bbded4",
   "metadata": {},
   "outputs": [],
   "source": [
    "from pyspark.sql import SparkSession\n",
    "from pyspark.sql.functions import count, desc , col, max, struct\n",
    "import matplotlib.pyplot as plts"
   ]
  },
  {
   "cell_type": "code",
   "execution_count": null,
   "id": "6a9a84b4-a9af-456c-b789-3604c9b2a595",
   "metadata": {},
   "outputs": [],
   "source": [
    "###create spark session : "
   ]
  },
  {
   "cell_type": "code",
   "execution_count": 2,
   "id": "e8a2296d-4c8c-41f3-9d37-3592631f4b7d",
   "metadata": {},
   "outputs": [],
   "source": [
    "spark = SparkSession.builder.appName('music_database').getOrCreate()"
   ]
  },
  {
   "cell_type": "code",
   "execution_count": 29,
   "id": "cee639fd-d3c3-438e-a46a-49c2d1f24515",
   "metadata": {},
   "outputs": [],
   "source": [
    "#load the data"
   ]
  },
  {
   "cell_type": "code",
   "execution_count": 3,
   "id": "ef602590-7d4f-4f8c-87dd-90de7b95e1bc",
   "metadata": {},
   "outputs": [],
   "source": [
    "listening_path = 'G:\\\\.shortcut-targets-by-id\\\\1ZhV5LxuRBYiD81HJHQTheQawXZ5MkPim\\\\dataset\\\\listenings.csv'\n",
    "genre_path = 'G:\\\\.shortcut-targets-by-id\\\\1ZhV5LxuRBYiD81HJHQTheQawXZ5MkPim\\\\dataset\\\\genre.csv'\n",
    "\n",
    "listening_df = spark.read.format('csv').option('inferSchema', True).option('header', True).load(listening_path)\n",
    "genre_df = spark.read.format('csv').option('inferSchema', True).option('header', True).load(genre_path)"
   ]
  },
  {
   "cell_type": "code",
   "execution_count": null,
   "id": "50a0a5f6-b9e0-4d27-8cdd-ab1b63e898c5",
   "metadata": {},
   "outputs": [],
   "source": [
    "#explore data:"
   ]
  },
  {
   "cell_type": "code",
   "execution_count": 30,
   "id": "6f436f48-6adf-47c0-8074-0f0361c724e6",
   "metadata": {},
   "outputs": [
    {
     "name": "stdout",
     "output_type": "stream",
     "text": [
      "+-----------+-------------+--------------------+---------------+--------------------+\n",
      "|    user_id|         date|               track|         artist|               album|\n",
      "+-----------+-------------+--------------------+---------------+--------------------+\n",
      "|000Silenced|1299680100000|           Price Tag|       Jessie J|         Who You Are|\n",
      "|000Silenced|1299679920000|Price Tag (Acoust...|       Jessie J|           Price Tag|\n",
      "|000Silenced|1299679440000|Be Mine! (Ballad ...|          Robyn|            Be Mine!|\n",
      "|000Silenced|1299679200000|            Acapella|          Kelis|            Acapella|\n",
      "|000Silenced|1299675660000|   I'm Not Invisible|      The Tease|   I'm Not Invisible|\n",
      "|000Silenced|1297511400000|Bounce (Feat NORE...|       MSTRKRFT|         Fist of God|\n",
      "|000Silenced|1294498440000|Don't Stop The Mu...|        Rihanna|Addicted 2 Bassli...|\n",
      "|000Silenced|1292438340000|               ObZen|      Meshuggah|               ObZen|\n",
      "|000Silenced|1292437740000|   Yama's Messengers|         Gojira|The Way of All Flesh|\n",
      "|000Silenced|1292436360000|On the Brink of E...|   Napalm Death|Time Waits For No...|\n",
      "|000Silenced|1292436360000|On the Brink of E...|   Napalm Death|Time Waits For No...|\n",
      "|000Silenced|1292435940000|        In Deference|   Napalm Death|      Smear Campaign|\n",
      "|000Silenced|1292434920000|      Post(?)organic|    Decapitated|Organic Hallucinosis|\n",
      "|000Silenced|1292434560000|        Mind Feeders|   Dom & Roland| No Strings Attached|\n",
      "|000Silenced|1292434320000|Necrosadistic War...|Cannibal Corpse|                Kill|\n",
      "|000Silenced|1292365560000|     Dance All Night|   Dom & Roland|          Chronology|\n",
      "|000Silenced|1292365260000|          Late Night|   Dom & Roland|          Chronology|\n",
      "|000Silenced|1292365020000|          Freak Seen|   Dom & Roland|          Chronology|\n",
      "|000Silenced|1292364720000|Paradrenasite (Hi...|   Dom & Roland|          Chronology|\n",
      "|000Silenced|1292364300000|               Rhino|   Dom & Roland|          Chronology|\n",
      "+-----------+-------------+--------------------+---------------+--------------------+\n",
      "only showing top 20 rows\n",
      "\n"
     ]
    }
   ],
   "source": [
    "listening_df.show()"
   ]
  },
  {
   "cell_type": "code",
   "execution_count": 34,
   "id": "d499d71d-e17c-4338-baf5-17029b561e4f",
   "metadata": {},
   "outputs": [
    {
     "name": "stdout",
     "output_type": "stream",
     "text": [
      "+--------------------+-----+\n",
      "|              artist|genre|\n",
      "+--------------------+-----+\n",
      "|                Muse| rock|\n",
      "|             Nirvana| rock|\n",
      "|            Bon Jovi| rock|\n",
      "|          The Police| rock|\n",
      "|                Kiss| rock|\n",
      "|       Guns N' Roses| rock|\n",
      "|         Rusted Root| rock|\n",
      "|Katrina and the W...|  pop|\n",
      "|         The Beatles| rock|\n",
      "|        Hall & Oates|  pop|\n",
      "|        Otis Redding| soul|\n",
      "|         Marvin Gaye| soul|\n",
      "|     The Cranberries| rock|\n",
      "|            Survivor| rock|\n",
      "|       Fleetwood Mac|blues|\n",
      "|           Radiohead| rock|\n",
      "|                Toto| rock|\n",
      "|                  U2| rock|\n",
      "|Creedence Clearwa...| rock|\n",
      "|                 REM| rock|\n",
      "+--------------------+-----+\n",
      "only showing top 20 rows\n",
      "\n"
     ]
    }
   ],
   "source": [
    "genre_df.show()"
   ]
  },
  {
   "cell_type": "code",
   "execution_count": 36,
   "id": "78990d4b-ef01-4ae8-b98e-eaf0595ff491",
   "metadata": {},
   "outputs": [],
   "source": [
    "def get_shape(df):\n",
    "    return (df.count()), (len(df.columns))"
   ]
  },
  {
   "cell_type": "code",
   "execution_count": 41,
   "id": "71a2a878-7822-4489-917b-e846201b0c48",
   "metadata": {},
   "outputs": [
    {
     "data": {
      "text/plain": [
       "((14650594, 5), (138432, 2))"
      ]
     },
     "execution_count": 41,
     "metadata": {},
     "output_type": "execute_result"
    }
   ],
   "source": [
    "listening_df_shape = get_shape(listening_df)\n",
    "genre_df_shape = get_shape(genre_df)\n",
    "listening_df_shape, genre_df_shape"
   ]
  },
  {
   "cell_type": "code",
   "execution_count": 42,
   "id": "09bffe48-9d4e-40fd-88be-82ec5fac9ac6",
   "metadata": {},
   "outputs": [
    {
     "name": "stdout",
     "output_type": "stream",
     "text": [
      "root\n",
      " |-- user_id: string (nullable = true)\n",
      " |-- date: long (nullable = true)\n",
      " |-- track: string (nullable = true)\n",
      " |-- artist: string (nullable = true)\n",
      " |-- album: string (nullable = true)\n",
      "\n"
     ]
    }
   ],
   "source": [
    "listening_df.printSchema()"
   ]
  },
  {
   "cell_type": "code",
   "execution_count": 43,
   "id": "25393bf8-935b-4a37-a8ff-12745bdde256",
   "metadata": {},
   "outputs": [
    {
     "name": "stdout",
     "output_type": "stream",
     "text": [
      "root\n",
      " |-- artist: string (nullable = true)\n",
      " |-- genre: string (nullable = true)\n",
      "\n"
     ]
    }
   ],
   "source": [
    "genre_df.printSchema()"
   ]
  },
  {
   "cell_type": "code",
   "execution_count": 4,
   "id": "92847518-08eb-441e-8958-8462c2eba721",
   "metadata": {},
   "outputs": [],
   "source": [
    "#pre-process data :  1. join dataframes based on artist column to create one big music dataframe | 2. drop rows with NaN values | 3.drop date column"
   ]
  },
  {
   "cell_type": "code",
   "execution_count": 44,
   "id": "dd4fb8d5-bb36-4caf-a168-f0bc61a6dade",
   "metadata": {},
   "outputs": [
    {
     "data": {
      "text/plain": [
       "DataFrame[artist: string, user_id: string, track: string, album: string, genre: string]"
      ]
     },
     "execution_count": 44,
     "metadata": {},
     "output_type": "execute_result"
    }
   ],
   "source": [
    "music_data = listening_df.join(genre_df, how = 'inner', on=['artist'])\n",
    "music_data.na.drop()\n",
    "music_data.drop('date')"
   ]
  },
  {
   "cell_type": "code",
   "execution_count": 45,
   "id": "6d10e5df-c7b0-432d-b433-18a2564b90e4",
   "metadata": {},
   "outputs": [],
   "source": [
    "###Create langchain agent for data exploration and analysis: "
   ]
  },
  {
   "cell_type": "code",
   "execution_count": 46,
   "id": "55a7aa72-6d21-43b7-bea6-f6050ae29760",
   "metadata": {},
   "outputs": [],
   "source": [
    "from langchain_experimental.agents.agent_toolkits import create_spark_dataframe_agent\n",
    "from langchain.agents import AgentExecutor\n",
    "from langchain.llms import OpenAI\n",
    "from pyspark.sql import SparkSession\n",
    "from langchain.chat_models import ChatOpenAI"
   ]
  },
  {
   "cell_type": "code",
   "execution_count": 47,
   "id": "0db790f9-1f07-476b-801b-b913ea750215",
   "metadata": {},
   "outputs": [],
   "source": [
    "#get openai_api_key"
   ]
  },
  {
   "cell_type": "code",
   "execution_count": 48,
   "id": "3d70fb01-2d5b-49f3-8867-257ce596072f",
   "metadata": {},
   "outputs": [],
   "source": [
    "import os\n",
    "OPENAI_API_KEY= os.getenv('OPENAI_API_KEY')"
   ]
  },
  {
   "cell_type": "code",
   "execution_count": 49,
   "id": "ff7f8aec-2df2-4a83-9fa7-116a0ddf4d9d",
   "metadata": {},
   "outputs": [],
   "source": [
    "llm_model = \"gpt-3.5-turbo-0301\"\n",
    "llm = ChatOpenAI(temperature=0, model=llm_model)"
   ]
  },
  {
   "cell_type": "code",
   "execution_count": 50,
   "id": "f62f61ce-1542-4321-b548-e00a2a617118",
   "metadata": {},
   "outputs": [],
   "source": [
    "#create pyspark agent:"
   ]
  },
  {
   "cell_type": "code",
   "execution_count": 51,
   "id": "8172ad3b-08f7-4970-893f-555983827d26",
   "metadata": {},
   "outputs": [],
   "source": [
    "agent = create_spark_dataframe_agent(llm=llm, df=music_data, verbose=True)"
   ]
  },
  {
   "cell_type": "code",
   "execution_count": 52,
   "id": "1ae506e0-3cbf-4ac3-bd95-61d64fd2e389",
   "metadata": {},
   "outputs": [
    {
     "name": "stdout",
     "output_type": "stream",
     "text": [
      "\n",
      "\n",
      "\u001b[1m> Entering new AgentExecutor chain...\u001b[0m\n",
      "\u001b[32;1m\u001b[1;3mThought: We need to filter the dataframe to only include records where the artist is Rihanna.\n",
      "Action: python_repl_ast\n",
      "Action Input: df.filter(df.artist == 'Rihanna').show()\u001b[0m\n",
      "Observation: \u001b[36;1m\u001b[1;3m+-------+-----------+-------------+--------------------+--------------------+--------------------+\n",
      "| artist|    user_id|         date|               track|               album|               genre|\n",
      "+-------+-----------+-------------+--------------------+--------------------+--------------------+\n",
      "|Rihanna|000Silenced|1294498440000|Don't Stop The Mu...|Addicted 2 Bassli...|                 SZA|\n",
      "|Rihanna|000Silenced|1294498440000|Don't Stop The Mu...|Addicted 2 Bassli...| Paul McCartney &...|\n",
      "|Rihanna|000Silenced|1294498440000|Don't Stop The Mu...|Addicted 2 Bassli...|          Kanye West|\n",
      "|Rihanna|000Silenced|1294498440000|Don't Stop The Mu...|Addicted 2 Bassli...| Kanye West & Pau...|\n",
      "|Rihanna|000Silenced|1294498440000|Don't Stop The Mu...|Addicted 2 Bassli...|                 pop|\n",
      "|Rihanna|000Silenced|1285438440000|           Disturbia|Good Girl Gone Ba...|                 SZA|\n",
      "|Rihanna|000Silenced|1285438440000|           Disturbia|Good Girl Gone Ba...| Paul McCartney &...|\n",
      "|Rihanna|000Silenced|1285438440000|           Disturbia|Good Girl Gone Ba...|          Kanye West|\n",
      "|Rihanna|000Silenced|1285438440000|           Disturbia|Good Girl Gone Ba...| Kanye West & Pau...|\n",
      "|Rihanna|000Silenced|1285438440000|           Disturbia|Good Girl Gone Ba...|                 pop|\n",
      "|Rihanna|00williamsl|1383765240000|Rihanna - We All ...|                NULL|                 SZA|\n",
      "|Rihanna|00williamsl|1383765240000|Rihanna - We All ...|                NULL| Paul McCartney &...|\n",
      "|Rihanna|00williamsl|1383765240000|Rihanna - We All ...|                NULL|          Kanye West|\n",
      "|Rihanna|00williamsl|1383765240000|Rihanna - We All ...|                NULL| Kanye West & Pau...|\n",
      "|Rihanna|00williamsl|1383765240000|Rihanna - We All ...|                NULL|                 pop|\n",
      "|Rihanna|00williamsl|1361485800000|   Hatin On The Club|              Random|                 SZA|\n",
      "|Rihanna|00williamsl|1361485800000|   Hatin On The Club|              Random| Paul McCartney &...|\n",
      "|Rihanna|00williamsl|1361485800000|   Hatin On The Club|              Random|          Kanye West|\n",
      "|Rihanna|00williamsl|1361485800000|   Hatin On The Club|              Random| Kanye West & Pau...|\n",
      "|Rihanna|00williamsl|1361485800000|   Hatin On The Club|              Random|                 pop|\n",
      "+-------+-----------+-------------+--------------------+--------------------+--------------------+\n",
      "only showing top 20 rows\n",
      "\n",
      "\u001b[0m\n",
      "Thought:\u001b[32;1m\u001b[1;3mWe need to extract only the user_id column from the filtered dataframe.\n",
      "Action: python_repl_ast\n",
      "Action Input: df.filter(df.artist == 'Rihanna').select('user_id').show()\u001b[0m\n",
      "Observation: \u001b[36;1m\u001b[1;3m+-----------+\n",
      "|    user_id|\n",
      "+-----------+\n",
      "|000Silenced|\n",
      "|000Silenced|\n",
      "|000Silenced|\n",
      "|000Silenced|\n",
      "|000Silenced|\n",
      "|000Silenced|\n",
      "|000Silenced|\n",
      "|000Silenced|\n",
      "|000Silenced|\n",
      "|000Silenced|\n",
      "|00williamsl|\n",
      "|00williamsl|\n",
      "|00williamsl|\n",
      "|00williamsl|\n",
      "|00williamsl|\n",
      "|00williamsl|\n",
      "|00williamsl|\n",
      "|00williamsl|\n",
      "|00williamsl|\n",
      "|00williamsl|\n",
      "+-----------+\n",
      "only showing top 20 rows\n",
      "\n",
      "\u001b[0m\n",
      "Thought:\u001b[32;1m\u001b[1;3mWe need to remove duplicates from the user_id column.\n",
      "Action: python_repl_ast\n",
      "Action Input: df.filter(df.artist == 'Rihanna').select('user_id').distinct().show()\u001b[0m\n",
      "Observation: \u001b[36;1m\u001b[1;3m+---------------+\n",
      "|        user_id|\n",
      "+---------------+\n",
      "|         BolaJA|\n",
      "|    abbyquinlan|\n",
      "|    abiprincess|\n",
      "|        air_con|\n",
      "|    AndrewTerry|\n",
      "|      aaronspud|\n",
      "|       adamnmcc|\n",
      "|      agentgypo|\n",
      "|      Bauldrick|\n",
      "|        boardy2|\n",
      "|booksfromboxes_|\n",
      "|     arrannorth|\n",
      "|AshvinaShegobin|\n",
      "|       alexfack|\n",
      "|    aliceoddity|\n",
      "|    annie-bella|\n",
      "|    backstabbed|\n",
      "|    badboydanny|\n",
      "|  Bambi-strokes|\n",
      "|         bekari|\n",
      "+---------------+\n",
      "only showing top 20 rows\n",
      "\n",
      "\u001b[0m\n",
      "Thought:\u001b[32;1m\u001b[1;3mI now know the final answer\n",
      "Final Answer: To find all of the records of those users who have listened to Rihanna, we can use the following code: `df.filter(df.artist == 'Rihanna').select('user_id').distinct()`\u001b[0m\n",
      "\n",
      "\u001b[1m> Finished chain.\u001b[0m\n"
     ]
    },
    {
     "data": {
      "text/plain": [
       "\"To find all of the records of those users who have listened to Rihanna, we can use the following code: `df.filter(df.artist == 'Rihanna').select('user_id').distinct()`\""
      ]
     },
     "execution_count": 52,
     "metadata": {},
     "output_type": "execute_result"
    }
   ],
   "source": [
    "agent.run(\"how to find all of the records of those users who have listened to Rihanna\")"
   ]
  },
  {
   "cell_type": "code",
   "execution_count": 53,
   "id": "5d65dd1a-adbc-410d-b0a7-73880e00b348",
   "metadata": {},
   "outputs": [],
   "source": [
    "agent = create_spark_dataframe_agent(llm=llm, df=music_data, verbose=False)"
   ]
  },
  {
   "cell_type": "code",
   "execution_count": 54,
   "id": "48e00643-ca6b-49f6-8e3f-7de50c46b1dd",
   "metadata": {},
   "outputs": [
    {
     "data": {
      "text/plain": [
       "\"To find all of the records of those users who have listened to Rihanna, we can use the following code: `df.filter(df.artist == 'Rihanna').select('user_id').distinct()`\""
      ]
     },
     "execution_count": 54,
     "metadata": {},
     "output_type": "execute_result"
    }
   ],
   "source": [
    "agent.run(\"how to find all of the records of those users who have listened to Rihanna\")"
   ]
  },
  {
   "cell_type": "code",
   "execution_count": 55,
   "id": "4304c47d-87c2-4cb1-b773-798ed72011e1",
   "metadata": {},
   "outputs": [],
   "source": [
    "agent = create_spark_dataframe_agent(llm=llm, df=music_data, verbose=True)"
   ]
  },
  {
   "cell_type": "code",
   "execution_count": 56,
   "id": "b3951645-5ce9-4aa7-8d07-1bf4261d7dfd",
   "metadata": {},
   "outputs": [
    {
     "name": "stdout",
     "output_type": "stream",
     "text": [
      "\n",
      "\n",
      "\u001b[1m> Entering new AgentExecutor chain...\u001b[0m\n",
      "\u001b[32;1m\u001b[1;3mThought: We need to filter the dataframe to only include rows where the artist is Rihanna, then group by user_id and count the number of occurrences, and finally sort by the count in descending order and take the top 10.\n",
      "Action: python_repl_ast\n",
      "Action Input:\n",
      "from pyspark.sql.functions import count\n",
      "from pyspark.sql.window import Window\n",
      "from pyspark.sql.functions import desc\n",
      "\n",
      "df_filtered = df.filter(df.artist == 'Rihanna')\n",
      "df_grouped = df_filtered.groupBy('user_id').agg(count('*').alias('count'))\n",
      "window = Window.orderBy(desc('count'))\n",
      "df_top10 = df_grouped.select('user_id', 'count').orderBy(desc('count')).limit(10)\n",
      "\n",
      "df_top10.show()\u001b[0m\n",
      "Observation: \u001b[36;1m\u001b[1;3m+---------------+-----+\n",
      "|        user_id|count|\n",
      "+---------------+-----+\n",
      "|        thiessu|  895|\n",
      "|    eyessetkyle|  830|\n",
      "|           adxx|  820|\n",
      "|missnumberthree|  780|\n",
      "|helloiamnatalie|  640|\n",
      "|          nmjnb|  620|\n",
      "|        AndyyyA|  615|\n",
      "|     BIGBANG186|  605|\n",
      "|     mixedvibes|  600|\n",
      "|       AndyKitt|  575|\n",
      "+---------------+-----+\n",
      "\n",
      "\u001b[0m\n",
      "Thought:\u001b[32;1m\u001b[1;3mWe have successfully found the top 10 users who are fans of Rihanna.\n",
      "Final Answer: The top 10 users who are fans of Rihanna are listed in the dataframe `df_top10`.\u001b[0m\n",
      "\n",
      "\u001b[1m> Finished chain.\u001b[0m\n"
     ]
    },
    {
     "data": {
      "text/plain": [
       "'The top 10 users who are fans of Rihanna are listed in the dataframe `df_top10`.'"
      ]
     },
     "execution_count": 56,
     "metadata": {},
     "output_type": "execute_result"
    }
   ],
   "source": [
    "agent.run(\"find top 10 users who are fan of Rihanna\")"
   ]
  },
  {
   "cell_type": "code",
   "execution_count": 11,
   "id": "9eeed3f5-9c20-4782-b854-65f91f33cf62",
   "metadata": {},
   "outputs": [
    {
     "name": "stdout",
     "output_type": "stream",
     "text": [
      "\n",
      "\n",
      "\u001b[1m> Entering new AgentExecutor chain...\u001b[0m\n",
      "\u001b[32;1m\u001b[1;3mThought: We need to count the number of occurrences of each genre and then sort them in descending order to get the top 4.\n",
      "Action: python_repl_ast\n",
      "Action Input: `from pyspark.sql.functions import desc, count\\n df.groupBy(\"genre\").agg(count(\"*\").alias(\"count\")).orderBy(desc(\"count\")).limit(4).show()`\u001b[0m\n",
      "Observation: \u001b[36;1m\u001b[1;3mSyntaxError: unexpected character after line continuation character (<unknown>, line 1)\u001b[0m\n",
      "Thought:\u001b[32;1m\u001b[1;3mThere seems to be a syntax error in the input command. Let me fix it.\n",
      "Action: python_repl_ast\n",
      "Action Input: `from pyspark.sql.functions import desc, count\\n df.groupBy(\"genre\").agg(count(\"*\").alias(\"count\")).orderBy(desc(\"count\")).limit(4).show()`\u001b[0m\n",
      "Observation: \u001b[36;1m\u001b[1;3mSyntaxError: unexpected character after line continuation character (<unknown>, line 1)\u001b[0m\n",
      "Thought:\u001b[32;1m\u001b[1;3mI need to remove the line continuation character and put the entire command in one line.\n",
      "Action: python_repl_ast\n",
      "Action Input: `from pyspark.sql.functions import desc, count; df.groupBy(\"genre\").agg(count(\"*\").alias(\"count\")).orderBy(desc(\"count\")).limit(4).show()`\u001b[0m\n",
      "Observation: \u001b[36;1m\u001b[1;3m+----------+-------+\n",
      "|     genre|  count|\n",
      "+----------+-------+\n",
      "|      rock|2811365|\n",
      "|       pop|1653729|\n",
      "|electronic| 590315|\n",
      "|   hip hop| 568489|\n",
      "+----------+-------+\n",
      "\n",
      "\u001b[0m\n",
      "Thought:\u001b[32;1m\u001b[1;3mThe top 4 famous genres are rock, pop, electronic, and hip hop.\n",
      "Final Answer: rock, pop, electronic, hip hop\u001b[0m\n",
      "\n",
      "\u001b[1m> Finished chain.\u001b[0m\n"
     ]
    },
    {
     "data": {
      "text/plain": [
       "'rock, pop, electronic, hip hop'"
      ]
     },
     "execution_count": 11,
     "metadata": {},
     "output_type": "execute_result"
    }
   ],
   "source": [
    "agent.run(\"what are the top 4 famous genres\")"
   ]
  },
  {
   "cell_type": "code",
   "execution_count": 57,
   "id": "8eb0f72f-a949-412e-9852-69cbffca8ac0",
   "metadata": {},
   "outputs": [
    {
     "name": "stdout",
     "output_type": "stream",
     "text": [
      "\n",
      "\n",
      "\u001b[1m> Entering new AgentExecutor chain...\u001b[0m\n",
      "\u001b[32;1m\u001b[1;3mThought: We need to use the `pyspark.sql.functions` module to count the number of occurrences of each genre in the dataframe. Then, we can create two lists and use a plotting library to visualize them.\n",
      "Action: python_repl_ast\n",
      "Action Input:\n",
      "```\n",
      "from pyspark.sql.functions import count\n",
      "import matplotlib.pyplot as plt\n",
      "\n",
      "# count the number of occurrences of each genre\n",
      "genre_counts = df.groupBy('genre').agg(count('*').alias('count')).orderBy('count', ascending=False).limit(4).collect()\n",
      "\n",
      "# create two lists\n",
      "labels = [row['genre'] for row in genre_counts]\n",
      "counts = [row['count'] for row in genre_counts]\n",
      "\n",
      "# create a plot\n",
      "plt.bar(labels, counts)\n",
      "plt.title('Top 4 Genres')\n",
      "plt.xlabel('Genre')\n",
      "plt.ylabel('Count')\n",
      "plt.show()\n",
      "```\u001b[0m"
     ]
    },
    {
     "data": {
      "image/png": "[encoded data removed]",
      "text/plain": [
       "<Figure size 640x480 with 1 Axes>"
      ]
     },
     "metadata": {},
     "output_type": "display_data"
    },
    {
     "name": "stdout",
     "output_type": "stream",
     "text": [
      "\n",
      "Observation: \u001b[36;1m\u001b[1;3m\u001b[0m\n",
      "Thought:\u001b[32;1m\u001b[1;3mThe plot looks good, but we should add some labels to the bars to make it more informative.\n",
      "Action: python_repl_ast\n",
      "Action Input:\n",
      "```\n",
      "from pyspark.sql.functions import count\n",
      "import matplotlib.pyplot as plt\n",
      "\n",
      "# count the number of occurrences of each genre\n",
      "genre_counts = df.groupBy('genre').agg(count('*').alias('count')).orderBy('count', ascending=False).limit(4).collect()\n",
      "\n",
      "# create two lists\n",
      "labels = [row['genre'] for row in genre_counts]\n",
      "counts = [row['count'] for row in genre_counts]\n",
      "\n",
      "# create a plot\n",
      "plt.bar(labels, counts)\n",
      "plt.title('Top 4 Genres')\n",
      "plt.xlabel('Genre')\n",
      "plt.ylabel('Count')\n",
      "\n",
      "# add labels to the bars\n",
      "for i, count in enumerate(counts):\n",
      "    plt.text(i, count, str(count), ha='center', va='bottom')\n",
      "\n",
      "plt.show()\n",
      "```\u001b[0m"
     ]
    },
    {
     "data": {
      "image/png": "[encoded data removed]",
      "text/plain": [
       "<Figure size 640x480 with 1 Axes>"
      ]
     },
     "metadata": {},
     "output_type": "display_data"
    },
    {
     "name": "stdout",
     "output_type": "stream",
     "text": [
      "\n",
      "Observation: \u001b[36;1m\u001b[1;3m\u001b[0m\n",
      "Thought:\u001b[32;1m\u001b[1;3mThe plot now has labels on the bars, but we should also add a legend to explain what the bars represent.\n",
      "Action: python_repl_ast\n",
      "Action Input:\n",
      "```\n",
      "from pyspark.sql.functions import count\n",
      "import matplotlib.pyplot as plt\n",
      "\n",
      "# count the number of occurrences of each genre\n",
      "genre_counts = df.groupBy('genre').agg(count('*').alias('count')).orderBy('count', ascending=False).limit(4).collect()\n",
      "\n",
      "# create two lists\n",
      "labels = [row['genre'] for row in genre_counts]\n",
      "counts = [row['count'] for row in genre_counts]\n",
      "\n",
      "# create a plot\n",
      "plt.bar(labels, counts)\n",
      "plt.title('Top 4 Genres')\n",
      "plt.xlabel('Genre')\n",
      "plt.ylabel('Count')\n",
      "\n",
      "# add labels to the bars\n",
      "for i, count in enumerate(counts):\n",
      "    plt.text(i, count, str(count), ha='center', va='bottom')\n",
      "\n",
      "# add a legend\n",
      "plt.legend(['Count'])\n",
      "\n",
      "plt.show()\n",
      "```\u001b[0m"
     ]
    },
    {
     "data": {
      "image/png": "[encoded data removed]",
      "text/plain": [
       "<Figure size 640x480 with 1 Axes>"
      ]
     },
     "metadata": {},
     "output_type": "display_data"
    },
    {
     "name": "stdout",
     "output_type": "stream",
     "text": [
      "\n",
      "Observation: \u001b[36;1m\u001b[1;3m\u001b[0m\n",
      "Thought:\u001b[32;1m\u001b[1;3mThe legend should be more descriptive, so let's change it to \"Number of Tracks\".\n",
      "Action: python_repl_ast\n",
      "Action Input:\n",
      "```\n",
      "from pyspark.sql.functions import count\n",
      "import matplotlib.pyplot as plt\n",
      "\n",
      "# count the number of occurrences of each genre\n",
      "genre_counts = df.groupBy('genre').agg(count('*').alias('count')).orderBy('count', ascending=False).limit(4).collect()\n",
      "\n",
      "# create two lists\n",
      "labels = [row['genre'] for row in genre_counts]\n",
      "counts = [row['count'] for row in genre_counts]\n",
      "\n",
      "# create a plot\n",
      "plt.bar(labels, counts)\n",
      "plt.title('Top 4 Genres')\n",
      "plt.xlabel('Genre')\n",
      "plt.ylabel('Number of Tracks')\n",
      "\n",
      "# add labels to the bars\n",
      "for i, count in enumerate(counts):\n",
      "    plt.text(i, count, str(count), ha='center', va='bottom')\n",
      "\n",
      "# add a legend\n",
      "plt.legend(['Number of Tracks'])\n",
      "\n",
      "plt.show()\n",
      "```\u001b[0m"
     ]
    },
    {
     "data": {
      "image/png": "[encoded data removed]",
      "text/plain": [
       "<Figure size 640x480 with 1 Axes>"
      ]
     },
     "metadata": {},
     "output_type": "display_data"
    },
    {
     "name": "stdout",
     "output_type": "stream",
     "text": [
      "\n",
      "Observation: \u001b[36;1m\u001b[1;3m\u001b[0m\n",
      "Thought:\u001b[32;1m\u001b[1;3mThe plot is now complete and informative.\n",
      "Final Answer: We created a plot to visualize the top 4 genres in the `df` dataframe, using the `pyspark.sql.functions` module to count the number of occurrences of each genre. We added labels to the bars and a legend to explain what the bars represent. The final plot shows the number of tracks for each of the top 4 genres.\u001b[0m\n",
      "\n",
      "\u001b[1m> Finished chain.\u001b[0m\n"
     ]
    },
    {
     "data": {
      "text/plain": [
       "'We created a plot to visualize the top 4 genres in the `df` dataframe, using the `pyspark.sql.functions` module to count the number of occurrences of each genre. We added labels to the bars and a legend to explain what the bars represent. The final plot shows the number of tracks for each of the top 4 genres.'"
      ]
     },
     "execution_count": 57,
     "metadata": {},
     "output_type": "execute_result"
    }
   ],
   "source": [
    "agent.run(\"create two lists: first list named lables, contains 4 most famous genres, the second named counts contains genre count. then create a plot to vizualize this lists\")"
   ]
  },
  {
   "cell_type": "code",
   "execution_count": null,
   "id": "7ad04999-b5ae-4b3d-8ee7-5e6b6af99eb4",
   "metadata": {},
   "outputs": [],
   "source": []
  },
  {
   "cell_type": "code",
   "execution_count": null,
   "id": "e5f98f93-741b-4750-bd4f-0dfaa578e70b",
   "metadata": {},
   "outputs": [],
   "source": []
  }
 ],
 "metadata": {
  "kernelspec": {
   "display_name": "Python 3 (ipykernel)",
   "language": "python",
   "name": "python3"
  },
  "language_info": {
   "codemirror_mode": {
    "name": "ipython",
    "version": 3
   },
   "file_extension": ".py",
   "mimetype": "text/x-python",
   "name": "python",
   "nbconvert_exporter": "python",
   "pygments_lexer": "ipython3",
   "version": "3.9.4"
  }
 },
 "nbformat": 4,
 "nbformat_minor": 5
}
